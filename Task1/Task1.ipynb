{
 "cells": [
  {
   "cell_type": "markdown",
   "metadata": {
    "collapsed": true,
    "pycharm": {
     "name": "#%% md\n"
    }
   },
   "source": [
    "Итак, работать будем с отзывами на кинопоиске.\n",
    "Заимпортируем все необходимые библиотеки.\n"
   ]
  },
  {
   "cell_type": "code",
   "execution_count": 1,
   "metadata": {
    "pycharm": {
     "name": "#%%\n"
    }
   },
   "outputs": [],
   "source": [
    "import string\n",
    "import pymorphy2\n",
    "import requests\n",
    "import json\n",
    "import re\n",
    "from collections import Counter"
   ]
  },
  {
   "cell_type": "markdown",
   "metadata": {},
   "source": [
    "Стоп-слова возьмем из json файла,\n",
    "куда впоследствии сможем легко добавлять новые"
   ]
  },
  {
   "cell_type": "code",
   "execution_count": 2,
   "metadata": {
    "pycharm": {
     "name": "#%%\n"
    }
   },
   "outputs": [],
   "source": [
    "with open('stopwords.json', 'r') as f:\n",
    "    stopwords = json.load(f)"
   ]
  },
  {
   "cell_type": "markdown",
   "metadata": {
    "pycharm": {
     "name": "#%% md\n"
    }
   },
   "source": [
    "Отзывы будем выкачивать с помощью неофициального API\n",
    "Кинопоиска. Для этого там необходимо зарегистрироваться и\n",
    "добавить хэдер с ключом. Так же заранее выберем список фильмов,\n",
    "у которых много отрицательных и положительных отзывов."
   ]
  },
  {
   "cell_type": "code",
   "execution_count": 3,
   "metadata": {
    "pycharm": {
     "name": "#%%\n"
    }
   },
   "outputs": [],
   "source": [
    "api_url = 'https://kinopoiskapiunofficial.tech/'\n",
    "reviews_url = 'api/v1/reviews/'\n",
    "movies = [\n",
    "    '102474',\n",
    "    '258687',\n",
    "    '447301',\n",
    "    '111543',\n",
    "    '1048334',\n",
    "    '692861',\n",
    "    '931677',\n",
    "    '9691',\n",
    "    '89515',\n",
    "    '263531'\n",
    "]"
   ]
  },
  {
   "cell_type": "markdown",
   "metadata": {
    "pycharm": {
     "name": "#%% md\n"
    }
   },
   "source": [
    "Итак, функция, которая выкачивает рецензии на фильм.\n",
    "Когда мы хотим получить слова для оценки, используем кокретный type,\n",
    "а уже на рабочем анализе отзывов нам нужно отсеить только NEUTRAL отзывы\n",
    "\n",
    "Когда мы будем качать отзывы для проверки качества нашей программы, они не должны повторяться с теми,\n",
    "на которых мы учили программу, поэтому имеем параметр offset\n",
    "\n",
    "Опыт показал, что программа показывает себя хорошо, когда учится на отзывах конкретного фильма\n",
    "и делает предикшн для отзывов на него же, поэтому так и будем работать."
   ]
  },
  {
   "cell_type": "code",
   "execution_count": 4,
   "metadata": {
    "pycharm": {
     "name": "#%%\n"
    }
   },
   "outputs": [],
   "source": [
    "def getReviews(movie_id, amount, offset=0, type=None):\n",
    "    review_list = []\n",
    "    isReady = False\n",
    "    params = {\n",
    "        \"filmId\": movie_id,\n",
    "    }\n",
    "    headers = {\n",
    "        \"accept\": \"application/json\",\n",
    "        \"X-API-KEY\": \"7c6639ff-0994-457e-9d96-81b89c205a98\"\n",
    "    }\n",
    "    response = requests.get(api_url + reviews_url, headers=headers, params=params)\n",
    "    pagesCount = response.json()['pagesCount']\n",
    "    i = 1\n",
    "    while (i <= pagesCount) and not isReady:\n",
    "        params[\"page\"] = i\n",
    "        i += 1\n",
    "        reviews = requests.get(api_url + reviews_url, headers=headers, params=params)\n",
    "        reviews = reviews.json()[\"reviews\"]\n",
    "        for review in reviews:\n",
    "            if len(review_list) >= (amount + offset):\n",
    "                isReady = True\n",
    "                break\n",
    "            if type:\n",
    "                if review[\"reviewType\"] == type:\n",
    "                    review_list.append(review)\n",
    "            else:\n",
    "                if review[\"reviewType\"] != \"NEUTRAL\":\n",
    "                    review_list.append(review)\n",
    "    return review_list[offset:]"
   ]
  },
  {
   "cell_type": "markdown",
   "metadata": {},
   "source": [
    "Теперь функция, которая обрабатывает текст отзывов и нормализует слова.\n",
    "Переменная type будет нужна, когда мы захотим проверить наш предикшн."
   ]
  },
  {
   "cell_type": "code",
   "execution_count": 5,
   "metadata": {
    "pycharm": {
     "name": "#%%\n"
    }
   },
   "outputs": [],
   "source": [
    "def processText(reviews):\n",
    "    morph = pymorphy2.MorphAnalyzer()\n",
    "    normalized = []\n",
    "    type = None\n",
    "    for review in reviews:\n",
    "        try:\n",
    "            type = review[\"reviewType\"]\n",
    "            text = review[\"reviewDescription\"].lower()\n",
    "            text = text.translate(str.maketrans('', '', string.punctuation))\n",
    "            text = cleantext(text)\n",
    "            words = text.split(\" \")\n",
    "            for word in words:\n",
    "                if word:\n",
    "                    word = morph.parse(word)[0].normal_form\n",
    "                    if not word in stopwords:\n",
    "                        normalized.append(morph.parse(word)[0].normal_form)\n",
    "        except:\n",
    "            pass\n",
    "    return normalized, type"
   ]
  },
  {
   "cell_type": "markdown",
   "metadata": {},
   "source": [
    "Для чистки текста от символов, с которыми не справляется string.punctuation, используем\n",
    "свою функцию"
   ]
  },
  {
   "cell_type": "code",
   "execution_count": 6,
   "metadata": {
    "pycharm": {
     "name": "#%%\n"
    }
   },
   "outputs": [],
   "source": [
    "def cleantext(text):\n",
    "    text = re.sub('[—«»…]', '', text)\n",
    "    return re.sub('\\r\\n', ' ', text)"
   ]
  },
  {
   "cell_type": "markdown",
   "metadata": {},
   "source": [
    "Функция, которая определяет, хороший отзыв или плохой, работает очень просто:\n",
    "имея три массива с нормализованными словами, она просто проверяет, где больше intersection."
   ]
  },
  {
   "cell_type": "code",
   "execution_count": 7,
   "metadata": {
    "pycharm": {
     "name": "#%%\n"
    }
   },
   "outputs": [],
   "source": [
    "def determineReviewType(review, pos, neg):\n",
    "    return \"POSITIVE\" if len(set(review) & set(pos)) >= len(set(review) & set(neg)) else \"NEGATIVE\"\n",
    "\n"
   ]
  },
  {
   "cell_type": "markdown",
   "metadata": {},
   "source": [
    "Ну и наконец, собираем все вместе и проверяем на конкретном фильме.\n",
    "Будем брать по 40 отзывов для обучения и проверять на 10."
   ]
  },
  {
   "cell_type": "code",
   "execution_count": 8,
   "metadata": {
    "pycharm": {
     "name": "#%%\n"
    }
   },
   "outputs": [],
   "source": [
    "def performCheck(movie_id):\n",
    "    global totalCorrect, total\n",
    "    positive_words, type = processText(getReviews(movie_id, 40, type=\"POSITIVE\"))\n",
    "    negative_words, type = processText(getReviews(movie_id, 40, type=\"NEGATIVE\"))\n",
    "    for word in positive_words:\n",
    "        if word in negative_words:\n",
    "            positive_words.remove(word)\n",
    "            negative_words.remove(word)\n",
    "\n",
    "    pos = [x[0] for x in Counter(positive_words).items() if x[1] >= 3]\n",
    "    neg = [x[0] for x in Counter(negative_words).items() if x[1] >= 3]\n",
    "\n",
    "    targetReviews = getReviews(movie_id, 10, offset=80)\n",
    "    # print(movie_id)\n",
    "    # print(\"----------\")\n",
    "    correct = 0\n",
    "    for i in range(len(targetReviews)):\n",
    "        reviewWords, actualType = processText([targetReviews[i]])\n",
    "        probableType = determineReviewType(reviewWords, pos, neg)\n",
    "        if probableType == actualType:\n",
    "            # print(\"CORRECT\", actualType)\n",
    "            correct+=1\n",
    "        # else:\n",
    "            # print(\"INCORRECT\", actualType, probableType)\n",
    "\n",
    "    totalCorrect+=correct\n",
    "    total+=len(targetReviews)\n",
    "    # print(\"CORRECT -\", correct, \"INCORRECT -\", len(targetReviews)-correct)\n",
    "    # print()"
   ]
  },
  {
   "cell_type": "markdown",
   "metadata": {},
   "source": [
    "Запустим цикл по всем фильмам и посмотрим, насколько правильно мы определяем, положительный отзыв или отрицательный."
   ]
  },
  {
   "cell_type": "code",
   "execution_count": null,
   "metadata": {
    "pycharm": {
     "name": "#%%\n"
    }
   },
   "outputs": [],
   "source": [
    "total = 0\n",
    "totalCorrect = 0\n",
    "\n",
    "for movie_id in movies:\n",
    "    performCheck(movie_id)\n",
    "\n",
    "print(\"TOTAL CORRECT -\", totalCorrect, \"TOTAL -\", total)"
   ]
  },
  {
   "cell_type": "markdown",
   "metadata": {},
   "source": [
    "Результат 74%, довольно неплохо для отзывов на Кинопоиске, которые отличаются своей\n",
    "распространенностью и литературностью. Для улучшения результата можно увеличить объем обучающих выборок, отрезать более редкие слова,\n",
    "обновить список стоп-слов."
   ]
  }
 ],
 "metadata": {
  "kernelspec": {
   "display_name": "Python 3",
   "language": "python",
   "name": "python3"
  },
  "language_info": {
   "codemirror_mode": {
    "name": "ipython",
    "version": 3
   },
   "file_extension": ".py",
   "mimetype": "text/x-python",
   "name": "python",
   "nbconvert_exporter": "python",
   "pygments_lexer": "ipython3",
   "version": "3.7.3"
  }
 },
 "nbformat": 4,
 "nbformat_minor": 1
}
