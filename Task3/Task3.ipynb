{
 "cells": [
  {
   "cell_type": "markdown",
   "metadata": {
    "collapsed": true,
    "pycharm": {
     "name": "#%% md\n"
    }
   },
   "source": [
    "Выполняем весь код с семинара для получения корпуса\n"
   ]
  },
  {
   "cell_type": "code",
   "execution_count": null,
   "outputs": [],
   "source": [
    "from pprint import pprint\n",
    "\n",
    "import re\n",
    "import gensim\n",
    "import gensim.corpora as corpora\n",
    "from gensim.models import CoherenceModel\n",
    "import spacy\n",
    "from gensim.utils import simple_preprocess\n",
    "import pandas as pd\n",
    "\n",
    "import nltk\n",
    "\n",
    "nltk.download('stopwords')\n",
    "\n",
    "from nltk.corpus import stopwords\n",
    "\n",
    "stop_words = stopwords.words('english')\n",
    "stop_words.extend(['from', 'subject', 're', 'edu', 'use'])\n",
    "\n",
    "df = pd.read_json('https://raw.githubusercontent.com/selva86/datasets/master/newsgroups.json')\n",
    "\n",
    "data = df.content.values.tolist()\n",
    "\n",
    "data = [re.sub('\\S*@\\S*\\s?', '', sent) for sent in data]\n",
    "\n",
    "data = [re.sub('\\s+', ' ', sent) for sent in data]\n",
    "\n",
    "data = [re.sub(\"\\'\", \"\", sent) for sent in data]\n",
    "\n",
    "\n",
    "def sent_to_words(sentences):\n",
    "    for sentence in sentences:\n",
    "        yield simple_preprocess(str(sentence), deacc=True)\n",
    "\n",
    "\n",
    "data_words = list(sent_to_words(data))\n",
    "\n",
    "bigram = gensim.models.Phrases(data_words, min_count=5, threshold=100)  # higher threshold fewer phrases.\n",
    "trigram = gensim.models.Phrases(bigram[data_words], threshold=100)\n",
    "bigram_mod = gensim.models.phrases.Phraser(bigram)\n",
    "trigram_mod = gensim.models.phrases.Phraser(trigram)\n",
    "\n",
    "\n",
    "def remove_stopwords(texts):\n",
    "    return [[word for word in simple_preprocess(str(doc)) if word not in stop_words] for doc in texts]\n",
    "\n",
    "\n",
    "def make_bigrams(texts):\n",
    "    return [bigram_mod[doc] for doc in texts]\n",
    "\n",
    "\n",
    "def make_trigrams(texts):\n",
    "    return [trigram_mod[bigram_mod[doc]] for doc in texts]\n",
    "\n",
    "\n",
    "def lemmatization(texts, allowed_postags):\n",
    "    \"\"\"https://spacy.io/api/annotation\"\"\"\n",
    "    if allowed_postags is None:\n",
    "        allowed_postags = ['NOUN', 'ADJ', 'VERB', 'ADV']\n",
    "    texts_out = []\n",
    "    for sent in texts:\n",
    "        doc = nlp(\" \".join(sent))\n",
    "        texts_out.append([token.lemma_ for token in doc if token.pos_ in allowed_postags])\n",
    "    return texts_out\n",
    "\n",
    "\n",
    "data_words_nostops = remove_stopwords(data_words)\n",
    "\n",
    "data_words_bigrams = make_bigrams(data_words_nostops)\n",
    "\n",
    "nlp = spacy.load('en', disable=['parser', 'ner'])\n",
    "\n",
    "data_lemmatized = lemmatization(data_words_bigrams, allowed_postags=['NOUN', 'ADJ', 'VERB', 'ADV'])\n",
    "\n",
    "id2word = corpora.Dictionary(data_lemmatized)\n",
    "\n",
    "# Create Corpus\n",
    "texts = data_lemmatized\n",
    "\n",
    "# Term Document Frequency\n",
    "corpus = [id2word.doc2bow(text) for text in texts]"
   ],
   "metadata": {
    "collapsed": false,
    "pycharm": {
     "name": "#%%\n"
    }
   }
  },
  {
   "cell_type": "markdown",
   "source": [
    "Качаем Mallet."
   ],
   "metadata": {
    "collapsed": false
   }
  },
  {
   "cell_type": "code",
   "execution_count": null,
   "outputs": [],
   "source": [
    "mallet_path = 'mallet-2.0.8/bin/mallet'"
   ],
   "metadata": {
    "collapsed": false,
    "pycharm": {
     "name": "#%%\n"
    }
   }
  },
  {
   "cell_type": "markdown",
   "source": [
    "Запускаем вот такую функцию сначала в широком диапазоне [10,30), потом сужаем до [15,25)"
   ],
   "metadata": {
    "collapsed": false,
    "pycharm": {
     "name": "#%% md\n"
    }
   }
  },
  {
   "cell_type": "code",
   "execution_count": null,
   "outputs": [],
   "source": [
    "max_coh = 0\n",
    "best_groups = 0\n",
    "\n",
    "for i in range(10,30):\n",
    "    ldamallet = gensim.models.wrappers.LdaMallet(mallet_path, corpus=corpus, num_topics=i, id2word=id2word)\n",
    "    coherence_model_ldamallet = CoherenceModel(model=ldamallet, texts=data_lemmatized, dictionary=id2word, coherence='c_v')\n",
    "    coherence_ldamallet = coherence_model_ldamallet.get_coherence()\n",
    "    print(i, coherence_ldamallet)\n",
    "    if max_coh < coherence_ldamallet:\n",
    "        max_coh = coherence_ldamallet\n",
    "        best_groups = i\n",
    "\n",
    "print()\n",
    "print(max_coh, best_groups)"
   ],
   "metadata": {
    "collapsed": false,
    "pycharm": {
     "name": "#%%\n"
    }
   }
  },
  {
   "cell_type": "markdown",
   "source": [
    "Получаем в первом случае число групп 23, во втором 21. Во втором прогоне было больше, чем в первом, так что берем 21\n",
    "\n",
    "На самом деле, значения на прогонах разные даже для одного и того же числа групп, максимум наблюдается на промежутке от 19 до 23 где-то.\n",
    "\n",
    "Далее получаем топики по генсим-модели, проходим по всем текстам и для каждого в словаре считаем суммы весов слов из топиков, если они встречаются.\n",
    "Ключ с максимальным значением в таком словаре - широкий топик для текста.\n",
    "Тексты по широким топикам тоже кидаем в общий словарь."
   ],
   "metadata": {
    "collapsed": false
   }
  },
  {
   "cell_type": "code",
   "execution_count": null,
   "outputs": [],
   "source": [
    "lda_model = gensim.models.ldamodel.LdaModel(corpus=corpus,\n",
    "                                            id2word=id2word,\n",
    "                                            num_topics=21,\n",
    "                                            random_state=100,\n",
    "                                            update_every=1,\n",
    "                                            chunksize=100,\n",
    "                                            passes=10,\n",
    "                                            alpha='auto',\n",
    "                                            per_word_topics=True)\n",
    "topics = lda_model.show_topics(formatted=False)\n",
    "\n",
    "import operator\n",
    "\n",
    "def findTextCommonTopic(text, all_topics=topics):\n",
    "    text_topics = {}\n",
    "    for word in text:\n",
    "        for topic in all_topics:\n",
    "            for topic_word in topic[1]:\n",
    "                print(topic_word)\n",
    "                if word == topic_word[0]:\n",
    "                    if topic[0] in text_topics:\n",
    "                        text_topics[topic[0]]+=topic_word[1]\n",
    "                    else:\n",
    "                        text_topics[topic[0]]=topic_word[1]\n",
    "    return max(text_topics.items(), key=operator.itemgetter(1))[0]\n",
    "\n",
    "\n",
    "groups = {}\n",
    "\n",
    "for text in texts:\n",
    "    text_topic = findTextCommonTopic(text)\n",
    "    if text_topic in groups:\n",
    "        groups[text_topic].append(text)\n",
    "    else:\n",
    "        groups[text_topic] = [text]\n",
    "\n",
    "print(groups)"
   ],
   "metadata": {
    "collapsed": false,
    "pycharm": {
     "name": "#%%\n"
    }
   }
  },
  {
   "cell_type": "markdown",
   "source": [
    "Теперь ищем TF-IDF в cловах для каждой группы, сохраняем топ5 для текста"
   ],
   "metadata": {
    "collapsed": false
   }
  },
  {
   "cell_type": "code",
   "execution_count": null,
   "outputs": [],
   "source": [
    "from sklearn.feature_extraction.text import TfidfVectorizer\n",
    "\n",
    "def processGroup(group_topic, group):\n",
    "    vectorizer = TfidfVectorizer()\n",
    "    vectors = vectorizer.fit_transform(group)\n",
    "    feature_names = vectorizer.get_feature_names()\n",
    "    denseList = vectors.todense().tolist()\n",
    "    tfidfs = {}\n",
    "    data = []\n",
    "    for i in range(len(group)):\n",
    "        for num, word in enumerate(feature_names):\n",
    "            tfidfs[word] = denseList[i][num]\n",
    "        top5 = sorted(tfidfs, key=tfidfs.get, reverse=True)[:5]\n",
    "        data.append([group[i], group_topic, top5])\n",
    "    return data\n",
    "\n",
    "\n",
    "data = []\n",
    "for group_topic in groups:\n",
    "    data.extend(processGroup(group_topic, groups[group_topic]))"
   ],
   "metadata": {
    "collapsed": false,
    "pycharm": {
     "name": "#%%\n"
    }
   }
  },
  {
   "cell_type": "markdown",
   "source": [
    "Создадим массив, в котором сложим слова топиков по порядку наших данных.\n",
    "Сложим это все в датафрейм"
   ],
   "metadata": {
    "collapsed": false
   }
  },
  {
   "cell_type": "code",
   "execution_count": null,
   "outputs": [],
   "source": [
    "topic_words = [topic[1] for row in data for topic in topics if row[1] == topic[0]]\n",
    "\n",
    "dataframe = pd.DataFrame(data, columns=['Text', 'Topic_id', 'top5'])\n",
    "dataframe.insert(2, 'topic words', topic_words)"
   ],
   "metadata": {
    "collapsed": false,
    "pycharm": {
     "name": "#%%\n"
    }
   }
  },
  {
   "cell_type": "code",
   "execution_count": null,
   "outputs": [],
   "source": [
    "dataframe"
   ],
   "metadata": {
    "collapsed": false,
    "pycharm": {
     "name": "#%%\n"
    }
   }
  },
  {
   "cell_type": "markdown",
   "source": [
    "P.S.\n",
    "Coherence определяет, насколько действительно семантически близки слова внутри одного топика"
   ],
   "metadata": {
    "collapsed": false
   }
  }
 ],
 "metadata": {
  "kernelspec": {
   "display_name": "Python 3",
   "language": "python",
   "name": "python3"
  },
  "language_info": {
   "codemirror_mode": {
    "name": "ipython",
    "version": 2
   },
   "file_extension": ".py",
   "mimetype": "text/x-python",
   "name": "python",
   "nbconvert_exporter": "python",
   "pygments_lexer": "ipython2",
   "version": "2.7.6"
  }
 },
 "nbformat": 4,
 "nbformat_minor": 0
}
